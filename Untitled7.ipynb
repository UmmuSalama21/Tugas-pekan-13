{
  "nbformat": 4,
  "nbformat_minor": 0,
  "metadata": {
    "colab": {
      "name": "Untitled7.ipynb",
      "provenance": [],
      "authorship_tag": "ABX9TyMihhPVkDoIlxlGm0CSNuCg",
      "include_colab_link": true
    },
    "kernelspec": {
      "name": "python3",
      "display_name": "Python 3"
    },
    "language_info": {
      "name": "python"
    }
  },
  "cells": [
    {
      "cell_type": "markdown",
      "metadata": {
        "id": "view-in-github",
        "colab_type": "text"
      },
      "source": [
        "<a href=\"https://colab.research.google.com/github/UmmuSalama21/Tugas-pekan-13/blob/main/Untitled7.ipynb\" target=\"_parent\"><img src=\"https://colab.research.google.com/assets/colab-badge.svg\" alt=\"Open In Colab\"/></a>"
      ]
    },
    {
      "cell_type": "code",
      "execution_count": 3,
      "metadata": {
        "colab": {
          "base_uri": "https://localhost:8080/"
        },
        "id": "D5yFgX0Bgyfg",
        "outputId": "c8030a9b-8626-4428-829c-9c21e99f7cfd"
      },
      "outputs": [
        {
          "output_type": "stream",
          "name": "stdout",
          "text": [
            "Halo stat\n"
          ]
        }
      ],
      "source": [
        "def kalimat():\n",
        "  print('Halo stat')\n",
        "  \n",
        "kalimat()"
      ]
    },
    {
      "cell_type": "code",
      "source": [
        "def hitung():\n",
        "  return 1+2\n",
        "\n",
        "tampil=hitung()\n",
        "print('hasil perhitungan', tampil)"
      ],
      "metadata": {
        "colab": {
          "base_uri": "https://localhost:8080/"
        },
        "id": "7_fDvUgukEp-",
        "outputId": "a2464425-b9a3-4503-d131-4bf5ee78e3a7"
      },
      "execution_count": 2,
      "outputs": [
        {
          "output_type": "stream",
          "name": "stdout",
          "text": [
            "hasil perhitungan 3\n"
          ]
        }
      ]
    },
    {
      "cell_type": "markdown",
      "source": [
        "**Deklarasi fungsi dengan parameter tanpa nilai**"
      ],
      "metadata": {
        "id": "354bz2pykt-a"
      }
    },
    {
      "cell_type": "code",
      "source": [
        "#deklarasi fungsi\n",
        "def datadiri(nama, kota):\n",
        "  \"menampilkan nama dan kota\"\n",
        "  print('Nama Anda : ', nama)\n",
        "  print('Kota Anda : ', kota)\n",
        "\n",
        "#Program utama\n",
        "nama=input('masukkan nama Anda: ')\n",
        "kota=input('masukkan asal Anda: ')\n",
        "\n",
        "#memanggil fungsi\n",
        "datadiri(nama,kota)"
      ],
      "metadata": {
        "colab": {
          "base_uri": "https://localhost:8080/"
        },
        "id": "JeQ6F9ixlCvI",
        "outputId": "a17fc2c7-9d5f-494f-b1eb-7e5a02ba3eba"
      },
      "execution_count": 4,
      "outputs": [
        {
          "output_type": "stream",
          "name": "stdout",
          "text": [
            "masukkan nama Anda: ummu\n",
            "masukkan asal Anda: barru\n",
            "Nama Anda :  ummu\n",
            "Kota Anda :  barru\n"
          ]
        }
      ]
    },
    {
      "cell_type": "markdown",
      "source": [
        "**fungsi dengan parameter dengan nilai kembalian**"
      ],
      "metadata": {
        "id": "1ifaF8dmm2HF"
      }
    },
    {
      "cell_type": "code",
      "source": [
        "#deklarasi fungsi\n",
        "def perkalian(bil1, bil2):\n",
        "  \"menghitung perkalian dua bilangan\"\n",
        "  hasil=bil1*bil2\n",
        "  return hasil\n",
        "\n",
        "#program utama\n",
        "bil1=int(input('masukkan bil. pertama : '))\n",
        "bil2=int(input('masukkan bil. kedua : '))\n",
        "\n",
        "#memanggil fungsi\n",
        "print('hasil perkalian ',bil1,' dengan ', bil2,' adalah ',perkalian(bil1,bil2))"
      ],
      "metadata": {
        "colab": {
          "base_uri": "https://localhost:8080/"
        },
        "id": "MBDJbNI8m_Zv",
        "outputId": "3bdded6b-e5a1-4daf-c8d3-3ffea7198076"
      },
      "execution_count": 10,
      "outputs": [
        {
          "output_type": "stream",
          "name": "stdout",
          "text": [
            "masukkan bil. pertama : 1\n",
            "masukkan bil. kedua : 2\n",
            "hasil perkalian  1  dengan  2  adalah  2\n"
          ]
        }
      ]
    },
    {
      "cell_type": "markdown",
      "source": [
        "**Variabel lokal dan global**"
      ],
      "metadata": {
        "id": "KggPrTfxpdN8"
      }
    },
    {
      "cell_type": "code",
      "source": [
        "def ContohLokal():\n",
        "  A=99\n",
        "  A\n",
        "#program utama\n",
        "A=55\n",
        "A\n",
        "ContohLokal() "
      ],
      "metadata": {
        "id": "0rUpIIe4pcFM"
      },
      "execution_count": null,
      "outputs": []
    },
    {
      "cell_type": "code",
      "source": [
        "def bilangan(x,y):\n",
        "  print(\"Di dalam fungsi\")\n",
        "  print(\"Sebelum Proses\")\n",
        "  print(\"Nilai x\", x)\n",
        "  print(\"Nilai y\", y)\n",
        "  z=x\n",
        "  x=y\n",
        "  y=z\n",
        "  print(\"setelah proses\")\n",
        "  print(\"Nilai x\", x)\n",
        "  print(\"Nilai y\", y)\n",
        "\n",
        "x=12\n",
        "y=3\n",
        "print(\"sebelum memanggil fungsi, x bernilai\", x)\n",
        "print(\"sebelum memanggil fungsi, y bernilai\", y)\n",
        "bilangan(x,y)\n",
        "print(\"setelah memanggil fungsi, x bernilai\", x)\n",
        "print(\"setelah memanggil fungsi, y bernilai\", y)"
      ],
      "metadata": {
        "colab": {
          "base_uri": "https://localhost:8080/"
        },
        "id": "7Nhd6712syNV",
        "outputId": "a9cbed17-d714-44ec-c106-f8ae7fe04b5b"
      },
      "execution_count": 13,
      "outputs": [
        {
          "output_type": "stream",
          "name": "stdout",
          "text": [
            "sebelum memanggil fungsi, x bernilai 12\n",
            "sebelum memanggil fungsi, y bernilai 3\n",
            "Di dalam fungsi\n",
            "Sebelum Proses\n",
            "Nilai x 12\n",
            "Nilai y 3\n",
            "setelah proses\n",
            "Nilai x 3\n",
            "Nilai y 12\n",
            "setelah memanggil fungsi, x bernilai 12\n",
            "setelah memanggil fungsi, y bernilai 3\n"
          ]
        }
      ]
    },
    {
      "cell_type": "code",
      "source": [
        "data1 = [1, 3, 4, 5, 7, 9, 2]\n",
        "\n",
        "x = statistics.mean(data1)\n",
        "\n",
        "#printing the mean\n",
        "print(\"mean\")"
      ],
      "metadata": {
        "id": "vd06vswXwFx_"
      },
      "execution_count": null,
      "outputs": []
    }
  ]
}
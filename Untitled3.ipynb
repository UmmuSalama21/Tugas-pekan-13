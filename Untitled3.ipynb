{
  "nbformat": 4,
  "nbformat_minor": 0,
  "metadata": {
    "colab": {
      "name": "Untitled3.ipynb",
      "provenance": [],
      "collapsed_sections": [],
      "toc_visible": true,
      "authorship_tag": "ABX9TyPvo/7ng6tJ8tFTQCiNtdTQ",
      "include_colab_link": true
    },
    "kernelspec": {
      "name": "python3",
      "display_name": "Python 3"
    },
    "language_info": {
      "name": "python"
    }
  },
  "cells": [
    {
      "cell_type": "markdown",
      "metadata": {
        "id": "view-in-github",
        "colab_type": "text"
      },
      "source": [
        "<a href=\"https://colab.research.google.com/github/UmmuSalama21/Tugas-pekan-13/blob/main/Untitled3.ipynb\" target=\"_parent\"><img src=\"https://colab.research.google.com/assets/colab-badge.svg\" alt=\"Open In Colab\"/></a>"
      ]
    },
    {
      "cell_type": "code",
      "execution_count": null,
      "metadata": {
        "colab": {
          "base_uri": "https://localhost:8080/"
        },
        "id": "tNeY-Q1UBHSt",
        "outputId": "578a2933-1a6c-4a99-c01a-47e55c380b7e"
      },
      "outputs": [
        {
          "output_type": "stream",
          "name": "stdout",
          "text": [
            "nama barang = Baju\n",
            "harga satuan = 10000\n",
            "jumlah barang = 3\n",
            "Total Harga yang dibayar Rp 30000.0\n"
          ]
        }
      ],
      "source": [
        "Nomor 1\n",
        "\n",
        "nama_brg = input(\"nama barang = \")\n",
        "harga_satuan = eval(input((\"harga satuan = \")))\n",
        "jum_brg = eval(input((\"jumlah barang = \")))\n",
        "total_hrg_brg = 0.0\n",
        "harga_beli = jum_brg * harga_satuan\n",
        "total_hrg_brg = harga_beli + total_hrg_brg\n",
        "print(\"Total Harga yang dibayar Rp\", total_hrg_brg)"
      ]
    },
    {
      "cell_type": "code",
      "source": [
        "Nomor 2\n",
        "\n",
        "count = 0\n",
        "countt = 0\n",
        "for i in [1,2,3,4,5] :\n",
        "  if i%2 ==0 :\n",
        "    count = count + 1\n",
        "  else :\n",
        "    countt = countt + 1\n",
        "print('Banyaknya bilangan genap adalah %d bilangan' %count)\n",
        "print('Banyaknya bilangan ganjil adalah %d bilangan' %countt)"
      ],
      "metadata": {
        "colab": {
          "base_uri": "https://localhost:8080/"
        },
        "id": "leJXySefOObq",
        "outputId": "96efb4e9-1712-41bb-cbfb-a2005c0eac38"
      },
      "execution_count": null,
      "outputs": [
        {
          "output_type": "stream",
          "name": "stdout",
          "text": [
            "Banyaknya bilangan genap adalah 2 bilangan\n",
            "Banyaknya bilangan ganjil adalah 3 bilangan\n"
          ]
        }
      ]
    },
    {
      "cell_type": "code",
      "source": [
        "Nomor 3\n",
        "\n",
        "for i in range (1,51,3):\n",
        "  print(i, end=' ')"
      ],
      "metadata": {
        "colab": {
          "base_uri": "https://localhost:8080/"
        },
        "id": "43Nk_qJkDt8x",
        "outputId": "68261403-66e4-4bed-924c-970459ddd7c2"
      },
      "execution_count": null,
      "outputs": [
        {
          "output_type": "stream",
          "name": "stdout",
          "text": [
            "1 4 7 10 13 16 19 22 25 28 31 34 37 40 43 46 49 "
          ]
        }
      ]
    },
    {
      "cell_type": "code",
      "source": [
        "Nomor 4\n",
        "\n",
        "s = ''\n",
        "for i in range (1,6):\n",
        "  s += str(i)+''\n",
        "  print (s)"
      ],
      "metadata": {
        "colab": {
          "base_uri": "https://localhost:8080/"
        },
        "id": "LU4XqcsEF3je",
        "outputId": "216f7e65-fb08-4e89-ea5a-a549a51c46f4"
      },
      "execution_count": null,
      "outputs": [
        {
          "output_type": "stream",
          "name": "stdout",
          "text": [
            "1\n",
            "12\n",
            "123\n",
            "1234\n",
            "12345\n"
          ]
        }
      ]
    },
    {
      "cell_type": "code",
      "source": [
        "Nomor 5\n",
        "\n",
        "from prettytable import PrettyTable\n",
        "Tabel_Nilai = PrettyTable(['No.', 'Nama Mhs', 'N.Tugas', 'N.Kuis', 'N.UTS', 'N.UAS', 'NilaiAkhir'])\n",
        "Tabel_Nilai.add_row(['1', ' ', ' ', ' ', ' ', ' ', ' '])\n",
        "Tabel_Nilai.add_row(['2', ' ', ' ', ' ', ' ', ' ', ' '])\n",
        "Tabel_Nilai.add_row(['..', ' ', ' ', ' ', ' ', ' ', ' '])\n",
        "Tabel_Nilai.add_row(['N', ' ', ' ', ' ', ' ', ' ', ' '])\n",
        "print(Tabel_Nilai)"
      ],
      "metadata": {
        "colab": {
          "base_uri": "https://localhost:8080/"
        },
        "id": "MbuQ1yO1Sv0r",
        "outputId": "bfc769aa-5fb2-410f-ab49-1d15a392bfc8"
      },
      "execution_count": null,
      "outputs": [
        {
          "output_type": "stream",
          "name": "stdout",
          "text": [
            "+-----+----------+---------+--------+-------+-------+------------+\n",
            "| No. | Nama Mhs | N.Tugas | N.Kuis | N.UTS | N.UAS | NilaiAkhir |\n",
            "+-----+----------+---------+--------+-------+-------+------------+\n",
            "|  1  |          |         |        |       |       |            |\n",
            "|  2  |          |         |        |       |       |            |\n",
            "|  .. |          |         |        |       |       |            |\n",
            "|  N  |          |         |        |       |       |            |\n",
            "+-----+----------+---------+--------+-------+-------+------------+\n"
          ]
        }
      ]
    },
    {
      "cell_type": "code",
      "source": [
        "print(\"Penjumlahan Matriks\")\n",
        "\n",
        "mat1 = [\n",
        "    [1, 2],\n",
        "    [3, 4]\n",
        "]\n",
        "\n",
        "mat2 = [\n",
        "    [5, 6],\n",
        "    [7, 8]\n",
        "]\n",
        "\n",
        "for x in range(0, len(mat1)):\n",
        "  for y in range(0, len(mat1[0])):\n",
        "    print(mat1[x][y] + mat2[x][y], end=' ')\n",
        "  print('')"
      ],
      "metadata": {
        "colab": {
          "base_uri": "https://localhost:8080/"
        },
        "id": "scsW_1s2OQWu",
        "outputId": "9171a877-ed3e-40a1-eaee-f7cd6658be0b"
      },
      "execution_count": null,
      "outputs": [
        {
          "output_type": "stream",
          "name": "stdout",
          "text": [
            "Penjumlahan Matriks\n",
            "6 8 \n",
            "10 12 \n"
          ]
        }
      ]
    }
  ]
}